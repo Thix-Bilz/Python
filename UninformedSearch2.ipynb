{
  "nbformat": 4,
  "nbformat_minor": 0,
  "metadata": {
    "colab": {
      "provenance": [],
      "authorship_tag": "ABX9TyPgaawbAYv34/oaCDju3tmz",
      "include_colab_link": true
    },
    "kernelspec": {
      "name": "python3",
      "display_name": "Python 3"
    },
    "language_info": {
      "name": "python"
    }
  },
  "cells": [
    {
      "cell_type": "markdown",
      "metadata": {
        "id": "view-in-github",
        "colab_type": "text"
      },
      "source": [
        "<a href=\"https://colab.research.google.com/github/Thix-Bilz/Python/blob/main/UninformedSearch2.ipynb\" target=\"_parent\"><img src=\"https://colab.research.google.com/assets/colab-badge.svg\" alt=\"Open In Colab\"/></a>"
      ]
    },
    {
      "cell_type": "code",
      "execution_count": 5,
      "metadata": {
        "colab": {
          "base_uri": "https://localhost:8080/",
          "height": 278
        },
        "id": "Q_bO--oy0YHw",
        "outputId": "a3518112-9881-4355-a2b6-1939d1129604"
      },
      "outputs": [
        {
          "output_type": "stream",
          "name": "stdout",
          "text": [
            "Searching from watermelon to grape\n",
            "Realted Fruit: ['watermelon']\n",
            "Now in: watermelon\n",
            "Realted Fruit: ['orange', 'apple']\n",
            "Now in: orange\n",
            "Realted Fruit: ['apple', 'kiwi', 'banana']\n",
            "Now in: apple\n",
            "Realted Fruit: ['kiwi', 'banana']\n",
            "Now in: kiwi\n",
            "Realted Fruit: ['banana', 'grape']\n",
            "Now in: banana\n",
            "Realted Fruit: ['grape']\n",
            "Now in: grape\n",
            "Destination reached\n"
          ]
        },
        {
          "output_type": "execute_result",
          "data": {
            "text/plain": [
              "'grape'"
            ],
            "application/vnd.google.colaboratory.intrinsic+json": {
              "type": "string"
            }
          },
          "metadata": {},
          "execution_count": 5
        }
      ],
      "source": [
        "food = {\n",
        "    \"apple\": set(['watermelon', 'orange', 'banana']),\n",
        "    \"watermelon\": set(['apple', 'orange']),\n",
        "    \"orange\": set(['apple', 'watermelon', 'banana', 'kiwi']),\n",
        "    'banana': set(['apple', 'orange', 'kiwi']),\n",
        "    'kiwi': set(['orange', 'banana', 'grape']),\n",
        "    \"grape\": set([\"kiwi\"])\n",
        "}\n",
        "\n",
        "def neighbors(fruit, graph):\n",
        "    '''Return the neighbors of a given fruit in the graph.'''\n",
        "    return graph[fruit]\n",
        "\n",
        "def goal_test(goal, state):\n",
        "    '''Test if the current state is the goal state.'''\n",
        "    return state == goal\n",
        "\n",
        "def BFS(graph, start, goal):\n",
        "    '''Perform a breadth-first search in the given graph.'''\n",
        "    explored = set()\n",
        "    realtedfruit = [start]\n",
        "    print(\"Searching from {} to {}\".format(start, goal))\n",
        "    while realtedfruit:\n",
        "        print(\"Realted Fruit:\", realtedfruit)\n",
        "        state = realtedfruit.pop(0)\n",
        "        print(\"Now in:\", state)\n",
        "        explored.add(state)\n",
        "        if goal_test(goal, state):\n",
        "            print(\"Destination reached\")\n",
        "            return state\n",
        "        for neighbor in neighbors(state, graph):\n",
        "            if neighbor not in explored and neighbor not in realtedfruit:\n",
        "                realtedfruit.append(neighbor)\n",
        "    print(\"Failure: destination not reachable\")\n",
        "\n",
        "BFS(food, \"watermelon\", \"grape\")"
      ]
    },
    {
      "cell_type": "code",
      "source": [
        "import heapq\n",
        "\n",
        "def ucs(start, goal, graph):\n",
        "    visited = set()\n",
        "    heap = [(0, start)]\n",
        "    while heap:\n",
        "        (cost, node) = heapq.heappop(heap)\n",
        "        if node not in visited:\n",
        "            visited.add(node)\n",
        "            if node == goal:\n",
        "                return cost\n",
        "            for neighbor in graph[node]:\n",
        "                if neighbor not in visited:\n",
        "                    heapq.heappush(heap, (cost+1, neighbor))\n",
        "    return None\n",
        "\n",
        "start = \"watermelon\"\n",
        "goal = \"grape\"\n",
        "cost = ucs(start, goal, food)\n",
        "if cost is not None:\n",
        "    print(f\"Total cost from {start} to {goal} is {cost}\")\n",
        "else:\n",
        "    print(f\"No path found from {start} to {goal}\")\n"
      ],
      "metadata": {
        "colab": {
          "base_uri": "https://localhost:8080/"
        },
        "id": "JGKTYObPs5jb",
        "outputId": "8a818815-bf56-4738-f3ce-20602dcd664e"
      },
      "execution_count": 8,
      "outputs": [
        {
          "output_type": "stream",
          "name": "stdout",
          "text": [
            "Total cost from watermelon to watermelon is 0\n"
          ]
        }
      ]
    },
    {
      "cell_type": "code",
      "source": [
        "def dfs(start, goal, graph):\n",
        "    visited = set()\n",
        "    stack = [(start, [start])]\n",
        "    while stack:\n",
        "        (node, path) = stack.pop()\n",
        "        if node not in visited:\n",
        "            visited.add(node)\n",
        "            if node == goal:\n",
        "                return path\n",
        "            for neighbor in graph[node]:\n",
        "                if neighbor not in visited:\n",
        "                    stack.append((neighbor, path + [neighbor]))\n",
        "    return None\n",
        "\n",
        "start = \"watermelon\"\n",
        "goal = \"grape\"\n",
        "path = dfs(start, goal, food)\n",
        "if path is not None:\n",
        "    print(f\"Path from {start} to {goal} is {path}\")\n",
        "else:\n",
        "    print(f\"No path found from {start} to {goal}\")    "
      ],
      "metadata": {
        "colab": {
          "base_uri": "https://localhost:8080/"
        },
        "id": "Ka78NrVhvbYC",
        "outputId": "4e5d2379-dcf0-40fe-fe2a-5328be67908a"
      },
      "execution_count": 9,
      "outputs": [
        {
          "output_type": "stream",
          "name": "stdout",
          "text": [
            "Path from watermelon to grape is ['watermelon', 'apple', 'banana', 'kiwi', 'grape']\n"
          ]
        }
      ]
    }
  ]
}