{
  "nbformat": 4,
  "nbformat_minor": 0,
  "metadata": {
    "colab": {
      "provenance": [],
      "authorship_tag": "ABX9TyNJINaviSNuZ5dWyzc3Rv48",
      "include_colab_link": true
    },
    "kernelspec": {
      "name": "python3",
      "display_name": "Python 3"
    },
    "language_info": {
      "name": "python"
    }
  },
  "cells": [
    {
      "cell_type": "markdown",
      "metadata": {
        "id": "view-in-github",
        "colab_type": "text"
      },
      "source": [
        "<a href=\"https://colab.research.google.com/github/Thix-Bilz/Python/blob/main/UniformedSearch.ipynb\" target=\"_parent\"><img src=\"https://colab.research.google.com/assets/colab-badge.svg\" alt=\"Open In Colab\"/></a>"
      ]
    },
    {
      "cell_type": "code",
      "execution_count": null,
      "metadata": {
        "colab": {
          "base_uri": "https://localhost:8080/"
        },
        "id": "POjTX0pUyko5",
        "outputId": "44a3eafc-d176-45ca-be0d-e8a1d6f29f4c"
      },
      "outputs": [
        {
          "output_type": "stream",
          "name": "stdout",
          "text": [
            "Following is the DFS\n",
            "5\n",
            "3\n",
            "2\n",
            "4\n",
            "8\n",
            "7\n"
          ]
        }
      ],
      "source": [
        "graph = {\n",
        "    '5' : ['3', '7'],\n",
        "    '3' : ['2', '4'],\n",
        "    '7' : ['8'],\n",
        "    '2' : [],\n",
        "    '4' : ['8'],\n",
        "    '8' : []\n",
        "}\n",
        "visited = set() #set to keep track of visited node of graph\n",
        "def dfs(visited, graph, node):\n",
        "  if node not in visited:\n",
        "    print (node)\n",
        "    visited.add(node)\n",
        "    for neighbour in graph[node]:\n",
        "      dfs(visited, graph, neighbour)\n",
        "\n",
        "print(\"Following is the DFS\")\n",
        "dfs(visited, graph, '5')"
      ]
    },
    {
      "cell_type": "markdown",
      "source": [],
      "metadata": {
        "id": "AOzv0qch-8Gs"
      }
    },
    {
      "cell_type": "code",
      "source": [
        "pakistan= {\"Abbottabad\": set(['Mansehra', 'Haripur', 'Muree']),\n",
        "           \"Mansehra\": set([\"Abbottabad\", \"Attar Shisha\", \"Besham\"]),\n",
        "           \"Haripur\": set(['Hassan Abdal', 'Swabi']),\n",
        "           'Muree': set (['Islamabad', 'Muzzafar Abad']),\n",
        "           'Attar Shisha':set (['Mansehra', 'Naran', 'Muzzafar Abad' ]),\n",
        "           \"Besham\": set([\"Khwazakhela\",\"Chilas\"]),\n",
        "           \"Hassan Abdal\": set([\"Jehangira\", \"Taxila\"]),\n",
        "           \"Swabi\": set([\"Haripur\", \"Jehangira\"]),\n",
        "           \"Islamabad\": set([\"Muree\", \"Rawalpindi\"]),\n",
        "           \"Muzaffar Abad\": set([\"Muree\", \"Attar Shisha\"]),\n",
        "           \"Khwazakhela\":set([\"Besham\",\"Mingora\", \"Kalam\"]),\n",
        "           \"Chilas\": set([\"Besham\",\"Naran\",\"Gilgit\"]),\n",
        "           \"Jehangira\": set([\"Swabi\",\"Hassan Abdal\",\"Nowshera\"]),\n",
        "           \"Taxila\": set([\"Hassan Abdal\", \"Rawalpindi\"]),\n",
        "           \"Rawalpindi\": set([\"Islamabad\",\"Taxila\"]),\n",
        "           'Mingora': set(['Nowshera', 'Khwazakhela']),\n",
        "           'Kalam' :set (['Khwazakhela']),\n",
        "           'Naran': set (['Attar Shisha', 'Chilas']),\n",
        "           'Gilgit':set (['Chilas']),\n",
        "           \"Nowshera\":set([\"Peshawar\",\"Jehangira\"]),\n",
        "           \"Peshawar\": set([\"Nowshera\"])\n",
        "          }\n",
        "\n",
        "def neighbors(city, graph):\n",
        "    '''Return the neighbors of a given city in the graph.'''\n",
        "    return graph[city]\n",
        "\n",
        "def goal_test(goal, state):\n",
        "    '''Test if the current state is the goal state.'''\n",
        "    return state == goal\n",
        "\n",
        "def BFS(graph, start, goal):\n",
        "    '''Perform a breadth-first search in the given graph.'''\n",
        "    explored = set()\n",
        "    frontier = [start]\n",
        "    print(\"Searching from {} to {}\".format(start, goal))\n",
        "    while frontier:\n",
        "        print(\"Frontier:\", frontier)\n",
        "        state = frontier.pop(0)\n",
        "        print(\"Now in:\", state)\n",
        "        explored.add(state)\n",
        "        if goal_test(goal, state):\n",
        "            print(\"Destination reached\")\n",
        "            return state\n",
        "        for neighbor in neighbors(state, graph):\n",
        "            if neighbor not in explored and neighbor not in frontier:\n",
        "                frontier.append(neighbor)\n",
        "    print(\"Failure: destination not reachable\")\n",
        "\n",
        "BFS(pakistan, \"Haripur\", \"Peshawar\")"
      ],
      "metadata": {
        "colab": {
          "base_uri": "https://localhost:8080/",
          "height": 347
        },
        "id": "uMhBTPqu-9G1",
        "outputId": "b862da9e-94aa-418f-b8f6-980a4ea79c9a"
      },
      "execution_count": null,
      "outputs": [
        {
          "output_type": "stream",
          "name": "stdout",
          "text": [
            "Searching from Haripur to Peshawar\n",
            "Frontier: ['Haripur']\n",
            "Now in: Haripur\n",
            "Frontier: ['Hassan Abdal', 'Swabi']\n",
            "Now in: Hassan Abdal\n",
            "Frontier: ['Swabi', 'Jehangira', 'Taxila']\n",
            "Now in: Swabi\n",
            "Frontier: ['Jehangira', 'Taxila']\n",
            "Now in: Jehangira\n",
            "Frontier: ['Taxila', 'Nowshera']\n",
            "Now in: Taxila\n",
            "Frontier: ['Nowshera', 'Rawalpindi']\n",
            "Now in: Nowshera\n",
            "Frontier: ['Rawalpindi', 'Peshawar']\n",
            "Now in: Rawalpindi\n",
            "Frontier: ['Peshawar', 'Islamabad']\n",
            "Now in: Peshawar\n",
            "Destination reached\n"
          ]
        },
        {
          "output_type": "execute_result",
          "data": {
            "text/plain": [
              "'Peshawar'"
            ],
            "application/vnd.google.colaboratory.intrinsic+json": {
              "type": "string"
            }
          },
          "metadata": {},
          "execution_count": 12
        }
      ]
    },
    {
      "cell_type": "code",
      "source": [
        "import heapq\n",
        "\n",
        "def ucs(start, goal, graph):\n",
        "    visited = set()\n",
        "    heap = [(0, start)]\n",
        "    while heap:\n",
        "        (cost, node) = heapq.heappop(heap)\n",
        "        if node not in visited:\n",
        "            visited.add(node)\n",
        "            if node == goal:\n",
        "                return cost\n",
        "            for neighbor in graph[node]:\n",
        "                if neighbor not in visited:\n",
        "                    heapq.heappush(heap, (cost+1, neighbor))\n",
        "    return None\n",
        "\n",
        "start = \"Taxila\"\n",
        "goal = \"Peshawar\"\n",
        "cost = ucs(start, goal, pakistan)\n",
        "if cost is not None:\n",
        "    print(f\"Total cost from {start} to {goal} is {cost}\")\n",
        "else:\n",
        "    print(f\"No path found from {start} to {goal}\")\n"
      ],
      "metadata": {
        "colab": {
          "base_uri": "https://localhost:8080/",
          "height": 0
        },
        "id": "JGKTYObPs5jb",
        "outputId": "3a164324-8ce4-453f-91a4-99afe66693ba"
      },
      "execution_count": 6,
      "outputs": [
        {
          "output_type": "stream",
          "name": "stdout",
          "text": [
            "Total cost from Taxila to Peshawar is 4\n"
          ]
        }
      ]
    },
    {
      "cell_type": "code",
      "source": [
        "def dfs(start, goal, graph):\n",
        "    visited = set()\n",
        "    stack = [(start, [start])]\n",
        "    while stack:\n",
        "        (node, path) = stack.pop()\n",
        "        if node not in visited:\n",
        "            visited.add(node)\n",
        "            if node == goal:\n",
        "                return path\n",
        "            for neighbor in graph[node]:\n",
        "                if neighbor not in visited:\n",
        "                    stack.append((neighbor, path + [neighbor]))\n",
        "    return None\n",
        "\n",
        "start = \"Abbottabad\"\n",
        "goal = \"Peshawar\"\n",
        "path = dfs(start, goal, pakistan)\n",
        "if path is not None:\n",
        "    print(f\"Path from {start} to {goal} is {path}\")\n",
        "else:\n",
        "    print(f\"No path found from {start} to {goal}\")    "
      ],
      "metadata": {
        "colab": {
          "base_uri": "https://localhost:8080/",
          "height": 0
        },
        "id": "Ka78NrVhvbYC",
        "outputId": "9ba8c87d-4224-4f49-88d6-9d21b29c0e1f"
      },
      "execution_count": 5,
      "outputs": [
        {
          "output_type": "stream",
          "name": "stdout",
          "text": [
            "Path from Abbottabad to Peshawar is ['Abbottabad', 'Muree', 'Islamabad', 'Rawalpindi', 'Taxila', 'Hassan Abdal', 'Jehangira', 'Nowshera', 'Peshawar']\n"
          ]
        }
      ]
    }
  ]
}